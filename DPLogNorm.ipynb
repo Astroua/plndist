{
 "metadata": {
  "name": "",
  "signature": "sha256:29ab0e7693c84159da80f21feb2e5622cce0ba23b3ce6ed915e6f94b428f94b5"
 },
 "nbformat": 3,
 "nbformat_minor": 0,
 "worksheets": [
  {
   "cells": [
    {
     "cell_type": "code",
     "collapsed": false,
     "input": [
      "import numpy as np\n",
      "import scipy.stats as ss\n",
      "from scipy.stats import norm\n",
      "from scipy.special import erf,erfc\n",
      "import matplotlib.pyplot as plt\n",
      "%matplotlib inline"
     ],
     "language": "python",
     "metadata": {},
     "outputs": [],
     "prompt_number": 3
    },
    {
     "cell_type": "markdown",
     "metadata": {},
     "source": [
      "From [Reed](http://www.tandfonline.com/doi/abs/10.1081/STA-120037438#.UbHmIPb722o])\n",
      "$$f(x) = \\frac{\\alpha\\beta}{\\alpha+\\beta}\\left[A(\\alpha,\\nu,\\tau^2)x^{-\\alpha-1}\\Phi\\left(\\frac{\\log x-\\nu-\\alpha \\tau^2}{\\tau} \\right)+A(-\\beta,\\nu,\\tau^2)x^{\\beta-1}\\Phi^c\\left(\\frac{\\log x-\\nu+\\beta \\tau^2}{\\tau} \\right)\\right]$$\n",
      "where $A(\\theta,\\nu,\\tau^2) = \\exp\\left(\\theta \\nu + \\theta^2\\tau^2/2\\right)$.\n",
      "Parameter shapes are something like\n",
      "\n",
      "* $\\nu$ is like the mean of the lognormal\n",
      "* $\\alpha,\\beta$ are the PL slopes of the tails\n",
      "* $\\tau^2$ is the precision of the normal"
     ]
    },
    {
     "cell_type": "code",
     "collapsed": false,
     "input": [
      "def dpln(x,alpha=1,beta=0.5,nu=-1,tau2=1):\n",
      "    A1 = np.exp(alpha*nu+alpha**2*tau2/2)\n",
      "    A2 = np.exp(-beta*nu+beta**2*tau2/2)\n",
      "    term1 = A1*x**(-alpha-1)*norm.cdf((np.log(x)-nu-alpha*tau2)/tau2**0.5)\n",
      "    term2 = A2*x**(beta-1)*norm.sf((np.log(x)-nu+beta*tau2)/tau2**0.5)\n",
      "    fofx = alpha*beta/(alpha+beta)*(term2+term1)\n",
      "    return fofx"
     ],
     "language": "python",
     "metadata": {},
     "outputs": [],
     "prompt_number": 4
    },
    {
     "cell_type": "markdown",
     "metadata": {},
     "source": [
      "This also suggests the Power-log normal, which is just one side of the equation (and also likely needs a proper normalization).\n",
      "$$f(x) = \\alpha x^{-\\alpha-1}\\Phi\\left(\\frac{\\log x-\\nu-\\alpha \\tau^2}{\\tau} \\right)$$"
     ]
    },
    {
     "cell_type": "code",
     "collapsed": false,
     "input": [
      "def pln(x,alpha=1,tau2=1,nu=1):\n",
      "    A1 = np.exp(alpha*nu+alpha**2*tau2/2)\n",
      "    fofx = alpha*x**(-alpha-1)*norm.cdf((np.log(x)-nu-alpha*tau2)/tau2**0.5)\n",
      "    return fofx"
     ],
     "language": "python",
     "metadata": {},
     "outputs": [],
     "prompt_number": 5
    },
    {
     "cell_type": "code",
     "collapsed": false,
     "input": [
      "trialx = np.logspace(-2,3,100)\n",
      "pdf = dpln(trialx,alpha=1,nu=-1, beta = 3.0, tau2=0.50)\n",
      "pdf2 = pln(trialx, alpha=1,nu=-1,tau2=0.5)\n",
      "plt.loglog(trialx,pdf,label='Double power lognorm')\n",
      "plt.loglog(trialx,pdf2,label='Power lognorm')\n",
      "plt.legend(loc=4)"
     ],
     "language": "python",
     "metadata": {},
     "outputs": [
      {
       "metadata": {},
       "output_type": "pyout",
       "prompt_number": 6,
       "text": [
        "<matplotlib.legend.Legend at 0x10c866bd0>"
       ]
      },
      {
       "metadata": {},
       "output_type": "display_data",
       "png": "[encoded data removed]",
       "text": [
        "<matplotlib.figure.Figure at 0x10abb3bd0>"
       ]
      }
     ],
     "prompt_number": 6
    },
    {
     "cell_type": "markdown",
     "metadata": {},
     "source": [
      "Using the scipy ```rv_continuous``` class, we can define ```dPlN``` as a subclass."
     ]
    },
    {
     "cell_type": "code",
     "collapsed": false,
     "input": [
      "from dpln_distrib import dpln"
     ],
     "language": "python",
     "metadata": {},
     "outputs": [],
     "prompt_number": 7
    },
    {
     "cell_type": "markdown",
     "metadata": {},
     "source": [
      "Let's load in some data to test it..."
     ]
    },
    {
     "cell_type": "code",
     "collapsed": false,
     "input": [
      "from astropy.io.fits import getdata\n",
      "img = getdata(\"../testingdata/hd22.13co.intintensity.fits\")\n",
      "data = img[np.isfinite(img)]"
     ],
     "language": "python",
     "metadata": {},
     "outputs": [],
     "prompt_number": 8
    },
    {
     "cell_type": "markdown",
     "metadata": {},
     "source": [
      "scipy's general definitions are a little weird, and ```dpln``` will likely need to be adjusted to some degree (like doing away with ```nu``` and ```tau2``` in favour of the built-ins). For now, I've found it necessary to freeze the ```loc``` parameter to zero. Also parameter constraints should assist with the fitting."
     ]
    },
    {
     "cell_type": "code",
     "collapsed": false,
     "input": [
      "fit = dpln.fit(data, floc=0.0)\n",
      "print(fit)"
     ],
     "language": "python",
     "metadata": {},
     "outputs": [
      {
       "output_type": "stream",
       "stream": "stdout",
       "text": [
        "(6.3031314716821552, 17.213908576931281, 0.23934823955955675, 0.13907593441337285, 0.0, 3.0250049167272515)\n"
       ]
      }
     ],
     "prompt_number": 20
    },
    {
     "cell_type": "markdown",
     "metadata": {},
     "source": [
      "How did it do?"
     ]
    },
    {
     "cell_type": "code",
     "collapsed": false,
     "input": [
      "plt.hist(data, bins=100, normed=1)\n",
      "x = np.linspace(data.min(), data.max(), 1000)\n",
      "plt.plot(x, dpln.pdf(x, *fit))"
     ],
     "language": "python",
     "metadata": {},
     "outputs": [
      {
       "metadata": {},
       "output_type": "pyout",
       "prompt_number": 11,
       "text": [
        "[<matplotlib.lines.Line2D at 0x10d91aa10>]"
       ]
      },
      {
       "metadata": {},
       "output_type": "display_data",
       "png": "[encoded data removed]",
       "text": [
        "<matplotlib.figure.Figure at 0x10abb3e10>"
       ]
      }
     ],
     "prompt_number": 11
    },
    {
     "cell_type": "code",
     "collapsed": false,
     "input": [],
     "language": "python",
     "metadata": {},
     "outputs": []
    }
   ],
   "metadata": {}
  }
 ]
}