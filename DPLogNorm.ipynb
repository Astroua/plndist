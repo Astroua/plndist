{
 "metadata": {
  "name": "",
  "signature": "sha256:7888bf9d68410c2ecf52690eaec2ca98874e605e6d5ea8bcc572674ccd75d4b9"
 },
 "nbformat": 3,
 "nbformat_minor": 0,
 "worksheets": [
  {
   "cells": [
    {
     "cell_type": "code",
     "collapsed": false,
     "input": [
      "import numpy as np\n",
      "import scipy.stats as ss\n",
      "from scipy.stats import norm\n",
      "from scipy.special import erf,erfc\n",
      "import matplotlib.pyplot as plt\n",
      "%matplotlib inline"
     ],
     "language": "python",
     "metadata": {},
     "outputs": [],
     "prompt_number": 3
    },
    {
     "cell_type": "markdown",
     "metadata": {},
     "source": [
      "From [Reed](http://www.tandfonline.com/doi/abs/10.1081/STA-120037438#.UbHmIPb722o])\n",
      "$$f(x) = \\frac{\\alpha\\beta}{\\alpha+\\beta}\\left[A(\\alpha,\\nu,\\tau^2)x^{-\\alpha-1}\\Phi\\left(\\frac{\\log x-\\nu-\\alpha \\tau^2}{\\tau} \\right)+A(-\\beta,\\nu,\\tau^2)x^{\\beta-1}\\Phi^c\\left(\\frac{\\log x-\\nu+\\beta \\tau^2}{\\tau} \\right)\\right]$$\n",
      "where $A(\\theta,\\nu,\\tau^2) = \\exp\\left(\\theta \\nu + \\theta^2\\tau^2/2\\right)$.\n",
      "Parameter shapes are something like\n",
      "\n",
      "* $\\nu$ is like the mean of the lognormal\n",
      "* $\\alpha,\\beta$ are the PL slopes of the tails\n",
      "* $\\tau^2$ is the precision of the normal"
     ]
    },
    {
     "cell_type": "code",
     "collapsed": false,
     "input": [
      "def dpln(x,alpha=1,beta=0.5,nu=-1,tau2=1):\n",
      "    A1 = np.exp(alpha*nu+alpha**2*tau2/2)\n",
      "    A2 = np.exp(-beta*nu+beta**2*tau2/2)\n",
      "    term1 = A1*x**(-alpha-1)*norm.cdf((np.log(x)-nu-alpha*tau2)/tau2**0.5)\n",
      "    term2 = A2*x**(beta-1)*norm.sf((np.log(x)-nu+beta*tau2)/tau2**0.5)\n",
      "    fofx = alpha*beta/(alpha+beta)*(term2+term1)\n",
      "    return fofx"
     ],
     "language": "python",
     "metadata": {},
     "outputs": [],
     "prompt_number": 4
    },
    {
     "cell_type": "markdown",
     "metadata": {},
     "source": [
      "This also suggests the Power-log normal, which is just one side of the equation (and also likely needs a proper normalization).\n",
      "$$f(x) = \\alpha x^{-\\alpha-1}\\Phi\\left(\\frac{\\log x-\\nu-\\alpha \\tau^2}{\\tau} \\right)$$"
     ]
    },
    {
     "cell_type": "markdown",
     "metadata": {},
     "source": [
      "If we consider the dpln distribution in the limit as $$\\beta \\rightarrow \\infty,$$ we find the above since dpln may be written as mixture of the limiting cases (and fitted as such)."
     ]
    },
    {
     "cell_type": "code",
     "collapsed": false,
     "input": [
      "def pln(x,alpha=1,tau2=1,nu=1):\n",
      "    A1 = np.exp(alpha*nu+alpha**2*tau2/2)\n",
      "    fofx = alpha*x**(-alpha-1)*norm.cdf((np.log(x)-nu-alpha*tau2)/tau2**0.5)\n",
      "    return fofx"
     ],
     "language": "python",
     "metadata": {},
     "outputs": [],
     "prompt_number": 5
    },
    {
     "cell_type": "code",
     "collapsed": false,
     "input": [
      "trialx = np.logspace(-2,3,100)\n",
      "pdf = dpln(trialx,alpha=1,nu=-1, beta = 3.0, tau2=0.50)\n",
      "pdf2 = pln(trialx, alpha=1,nu=-1,tau2=0.5)\n",
      "plt.loglog(trialx,pdf,label='Double power lognorm')\n",
      "plt.loglog(trialx,pdf2,label='Power lognorm')\n",
      "plt.legend(loc=4)"
     ],
     "language": "python",
     "metadata": {},
     "outputs": [
      {
       "metadata": {},
       "output_type": "pyout",
       "prompt_number": 6,
       "text": [
        "<matplotlib.legend.Legend at 0x10d976d50>"
       ]
      },
      {
       "metadata": {},
       "output_type": "display_data",
       "png": "[encoded data removed]",
       "text": [
        "<matplotlib.figure.Figure at 0x10d8d8750>"
       ]
      }
     ],
     "prompt_number": 6
    },
    {
     "cell_type": "markdown",
     "metadata": {},
     "source": [
      "Using the scipy ```rv_continuous``` class, we can define ```dPlN``` as a subclass."
     ]
    },
    {
     "cell_type": "code",
     "collapsed": false,
     "input": [
      "from dpln_distrib import dpln"
     ],
     "language": "python",
     "metadata": {},
     "outputs": [],
     "prompt_number": 7
    },
    {
     "cell_type": "markdown",
     "metadata": {},
     "source": [
      "Let's load in some data to test it..."
     ]
    },
    {
     "cell_type": "code",
     "collapsed": false,
     "input": [
      "from astropy.io.fits import getdata\n",
      "img = getdata(\"../testingdata/hd22.13co.intintensity.fits\")\n",
      "data = img[np.isfinite(img)]"
     ],
     "language": "python",
     "metadata": {},
     "outputs": [
      {
       "output_type": "stream",
       "stream": "stderr",
       "text": [
        "WARNING: AstropyDeprecationWarning: Config parameter 'enabled_record_valued_keyword_cards' in section [io.fits] of the file '/Users/ekoch/.astropy/config/astropy.cfg' is deprecated. Use 'enable_record_valued_keyword_cards' in section [fits] instead. [astropy.config.configuration]\n",
        "WARNING:astropy:AstropyDeprecationWarning: Config parameter 'enabled_record_valued_keyword_cards' in section [io.fits] of the file '/Users/ekoch/.astropy/config/astropy.cfg' is deprecated. Use 'enable_record_valued_keyword_cards' in section [fits] instead.\n"
       ]
      }
     ],
     "prompt_number": 8
    },
    {
     "cell_type": "markdown",
     "metadata": {},
     "source": [
      "scipy's general definitions are a little weird, and ```dpln``` will likely need to be adjusted to some degree (like doing away with ```nu``` and ```tau2``` in favour of the built-ins). For now, I've found it necessary to freeze the ```loc``` parameter to zero. Also parameter constraints should assist with the fitting."
     ]
    },
    {
     "cell_type": "code",
     "collapsed": false,
     "input": [
      "fit = dpln.fit(data, floc=0.0, fscale=1.0)\n",
      "print(fit)"
     ],
     "language": "python",
     "metadata": {},
     "outputs": [
      {
       "output_type": "stream",
       "stream": "stderr",
       "text": [
        "/Users/ekoch/anaconda/lib/python2.7/site-packages/scipy/integrate/quadpack.py:321: IntegrationWarning: Extremely bad integrand behavior occurs at some points of the\n",
        "  integration interval.\n",
        "  warnings.warn(msg, IntegrationWarning)\n",
        "/Users/ekoch/anaconda/lib/python2.7/site-packages/scipy/integrate/quadpack.py:321: IntegrationWarning: The integral is probably divergent, or slowly convergent.\n",
        "  warnings.warn(msg, IntegrationWarning)\n"
       ]
      },
      {
       "output_type": "stream",
       "stream": "stdout",
       "text": [
        "(1.2231409354398668, 1.4283787570663817, 1.3551816091802553, 7.9469599648260317e-10, 0.0, 1.0)\n"
       ]
      },
      {
       "output_type": "stream",
       "stream": "stderr",
       "text": [
        "/Users/ekoch/anaconda/lib/python2.7/site-packages/scipy/stats/_distn_infrastructure.py:2075: RuntimeWarning: invalid value encountered in double_scalars\n",
        "  Lhat = muhat - Shat*mu\n"
       ]
      }
     ],
     "prompt_number": 9
    },
    {
     "cell_type": "markdown",
     "metadata": {},
     "source": [
      "How did it do?"
     ]
    },
    {
     "cell_type": "code",
     "collapsed": false,
     "input": [
      "plt.hist(data, bins=100, normed=1, alpha=0.1)\n",
      "print(dpln.ppf(0.05, *fit), dpln.ppf(0.95, *fit))\n",
      "x = np.linspace(dpln.ppf(0.001, *fit), dpln.ppf(0.95, *fit), 1000)\n",
      "plt.plot(x, dpln.pdf(x, *fit))"
     ],
     "language": "python",
     "metadata": {},
     "outputs": [
      {
       "output_type": "stream",
       "stream": "stdout",
       "text": [
        "(3.8774799664443576, 27.07614232728028)\n"
       ]
      },
      {
       "metadata": {},
       "output_type": "pyout",
       "prompt_number": 10,
       "text": [
        "[<matplotlib.lines.Line2D at 0x111896550>]"
       ]
      },
      {
       "metadata": {},
       "output_type": "display_data",
       "png": "[encoded data removed]",
       "text": [
        "<matplotlib.figure.Figure at 0x111896590>"
       ]
      }
     ],
     "prompt_number": 10
    },
    {
     "cell_type": "markdown",
     "metadata": {},
     "source": [
      "Clearly, there's still some issues with this fit...\n",
      "Now try the single powerlaw form.\n"
     ]
    },
    {
     "cell_type": "code",
     "collapsed": false,
     "input": [
      "from pln_distrib import pln"
     ],
     "language": "python",
     "metadata": {},
     "outputs": [],
     "prompt_number": 11
    },
    {
     "cell_type": "code",
     "collapsed": false,
     "input": [
      "data = data[data<15]\n",
      "fit2 = pln.fit(data, fscale=1.0, floc=0.0)\n",
      "print(fit2)"
     ],
     "language": "python",
     "metadata": {},
     "outputs": [
      {
       "output_type": "stream",
       "stream": "stdout",
       "text": [
        "(1.9385391274499997, 1.0032408991775963, 0.051442094897371768, 0.0, 1.0)\n"
       ]
      }
     ],
     "prompt_number": 18
    },
    {
     "cell_type": "code",
     "collapsed": false,
     "input": [
      "plt.hist(data, bins=100, normed=1)\n",
      "print(pln.ppf(0.01, *fit2))\n",
      "x2 = np.linspace(pln.ppf(0.01, *fit2), pln.ppf(0.99, *fit2), 1000)\n",
      "plt.plot(x2, pln.pdf(x2, *fit2))\n",
      "print(pln.stats(*fit2, moments='mvsk'))"
     ],
     "language": "python",
     "metadata": {},
     "outputs": [
      {
       "output_type": "stream",
       "stream": "stdout",
       "text": [
        "1.92250944215\n",
        "(array(5.779558763617037), array(-293.396422840921), array(nan), array(-3.6325896982437436))"
       ]
      },
      {
       "output_type": "stream",
       "stream": "stdout",
       "text": [
        "\n"
       ]
      },
      {
       "metadata": {},
       "output_type": "display_data",
       "png": "[encoded data removed]",
       "text": [
        "<matplotlib.figure.Figure at 0x1137cdf10>"
       ]
      }
     ],
     "prompt_number": 19
    },
    {
     "cell_type": "markdown",
     "metadata": {},
     "source": [
      "This seems to have worked fairly well. To ensure the code is working properly, let's try out some of the features."
     ]
    },
    {
     "cell_type": "code",
     "collapsed": false,
     "input": [
      "rv = pln(fit2[0], fit2[1], fit2[2], loc=fit2[3], scale=fit2[4])\n",
      "plt.hist(data, bins=100, color=\"b\", alpha=0.3, normed=1)\n",
      "plt.hist(rv.rvs(size=5000), bins=200, color=\"g\", alpha=0.4, normed=1)\n",
      "plt.plot(x2, rv.pdf(x2))\n",
      "# plt.xlim([0,30])"
     ],
     "language": "python",
     "metadata": {},
     "outputs": [
      {
       "metadata": {},
       "output_type": "pyout",
       "prompt_number": 20,
       "text": [
        "[<matplotlib.lines.Line2D at 0x112302990>]"
       ]
      },
      {
       "metadata": {},
       "output_type": "display_data",
       "png": "[encoded data removed]",
       "text": [
        "<matplotlib.figure.Figure at 0x1123ca9d0>"
       ]
      }
     ],
     "prompt_number": 20
    },
    {
     "cell_type": "code",
     "collapsed": false,
     "input": [
      "plt.plot(x2, rv.cdf(x2))"
     ],
     "language": "python",
     "metadata": {},
     "outputs": [
      {
       "metadata": {},
       "output_type": "pyout",
       "prompt_number": 24,
       "text": [
        "[<matplotlib.lines.Line2D at 0x113a2ab50>]"
       ]
      },
      {
       "metadata": {},
       "output_type": "display_data",
       "png": "[encoded data removed]",
       "text": [
        "<matplotlib.figure.Figure at 0x112f180d0>"
       ]
      }
     ],
     "prompt_number": 24
    },
    {
     "cell_type": "markdown",
     "metadata": {},
     "source": [
      "This looks pretty good. In log-scale..."
     ]
    },
    {
     "cell_type": "code",
     "collapsed": false,
     "input": [
      "plt.hist(data, bins=100, log=True, normed=1, alpha=0.3)\n",
      "plt.hist(rv.rvs(size=5000), bins=200, color=\"g\", alpha=0.2, normed=1, log=True)\n",
      "plt.plot(x2, rv.pdf(x2))\n",
      "plt.xlim([0, 40])"
     ],
     "language": "python",
     "metadata": {},
     "outputs": [
      {
       "metadata": {},
       "output_type": "pyout",
       "prompt_number": 25,
       "text": [
        "(0, 40)"
       ]
      },
      {
       "metadata": {},
       "output_type": "display_data",
       "png": "[encoded data removed]",
       "text": [
        "<matplotlib.figure.Figure at 0x1149f7a50>"
       ]
      }
     ],
     "prompt_number": 25
    },
    {
     "cell_type": "markdown",
     "metadata": {},
     "source": [
      "There's some obvious discrepancies here. The fit hasn't been able to pick up the proper power-law for the tail."
     ]
    },
    {
     "cell_type": "code",
     "collapsed": false,
     "input": [],
     "language": "python",
     "metadata": {},
     "outputs": [],
     "prompt_number": 23
    }
   ],
   "metadata": {}
  }
 ]
}