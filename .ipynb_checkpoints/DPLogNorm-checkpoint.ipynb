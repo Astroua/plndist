{
 "metadata": {
  "name": "",
  "signature": "sha256:ccb4b1dc58035dbf01ebf0ac318c06083fcfdd0255c70c28f01809f4675046f5"
 },
 "nbformat": 3,
 "nbformat_minor": 0,
 "worksheets": [
  {
   "cells": [
    {
     "cell_type": "code",
     "collapsed": false,
     "input": [
      "import numpy as np\n",
      "import scipy.stats as ss\n",
      "from scipy.stats import norm\n",
      "from scipy.special import erf,erfc\n",
      "import matplotlib.pyplot as plt\n",
      "%matplotlib inline"
     ],
     "language": "python",
     "metadata": {},
     "outputs": [],
     "prompt_number": 12
    },
    {
     "cell_type": "markdown",
     "metadata": {},
     "source": [
      "From [Reed](http://www.tandfonline.com/doi/abs/10.1081/STA-120037438#.UbHmIPb722o])\n",
      "$$f(x) = \\frac{\\alpha\\beta}{\\alpha+\\beta}\\left[A(\\alpha,\\nu,\\tau^2)x^{-\\alpha-1}\\Phi\\left(\\frac{\\log x-\\nu-\\alpha \\tau^2}{\\tau} \\right)+A(-\\beta,\\nu,\\tau^2)x^{\\beta-1}\\Phi^c\\left(\\frac{\\log x-\\nu+\\beta \\tau^2}{\\tau} \\right)\\right]$$\n",
      "where $A(\\theta,\\nu,\\tau^2) = \\exp\\left(\\theta \\nu + \\theta^2\\tau^2/2\\right)$.\n",
      "Parameter shapes are something like\n",
      "\n",
      "* $\\nu$ is like the mean of the lognormal\n",
      "* $\\alpha,\\beta$ are the PL slopes of the tails\n",
      "* $\\tau^2$ is the precision of the normal"
     ]
    },
    {
     "cell_type": "code",
     "collapsed": false,
     "input": [
      "def dpln(x,alpha=1,beta=0.5,nu=-1,tau2=1):\n",
      "    A1 = np.exp(alpha*nu+alpha**2*tau2/2)\n",
      "    A2 = np.exp(-beta*nu+beta**2*tau2/2)\n",
      "    term1 = A1*x**(-alpha-1)*norm.cdf((np.log(x)-nu-alpha*tau2)/tau2**0.5)\n",
      "    term2 = A2*x**(beta-1)*norm.sf((np.log(x)-nu+beta*tau2)/tau2**0.5)\n",
      "    fofx = alpha*beta/(alpha+beta)*(term2+term1)\n",
      "    return fofx"
     ],
     "language": "python",
     "metadata": {},
     "outputs": [],
     "prompt_number": 13
    },
    {
     "cell_type": "markdown",
     "metadata": {},
     "source": [
      "This also suggests the Power-log normal, which is just one side of the equation (and also likely needs a proper normalization).\n",
      "$$f(x) = \\alpha x^{-\\alpha-1}\\Phi\\left(\\frac{\\log x-\\nu-\\alpha \\tau^2}{\\tau} \\right)$$"
     ]
    },
    {
     "cell_type": "code",
     "collapsed": false,
     "input": [
      "def pln(x,alpha=1,tau2=1,nu=1):\n",
      "    A1 = np.exp(alpha*nu+alpha**2*tau2/2)\n",
      "    fofx = alpha*x**(-alpha-1)*norm.cdf((np.log(x)-nu-alpha*tau2)/tau2**0.5)\n",
      "    return fofx"
     ],
     "language": "python",
     "metadata": {},
     "outputs": [],
     "prompt_number": 27
    },
    {
     "cell_type": "code",
     "collapsed": false,
     "input": [
      "trialx = np.logspace(-2,3,100)\n",
      "pdf = dpln(trialx,alpha=1,nu=-1, beta = 3.0, tau2=0.50)\n",
      "pdf2 = pln(trialx, alpha=1,nu=-1,tau2=0.5)\n",
      "plt.loglog(trialx,pdf,label='Double power lognorm')\n",
      "plt.loglog(trialx,pdf2,label='Power lognorm')\n",
      "plt.legend(loc=4)"
     ],
     "language": "python",
     "metadata": {},
     "outputs": [
      {
       "metadata": {},
       "output_type": "pyout",
       "prompt_number": 29,
       "text": [
        "<matplotlib.legend.Legend at 0x1157f16d0>"
       ]
      },
      {
       "metadata": {},
       "output_type": "display_data",
       "png": "[encoded data removed]",
       "text": [
        "<matplotlib.figure.Figure at 0x115789990>"
       ]
      }
     ],
     "prompt_number": 29
    },
    {
     "cell_type": "markdown",
     "metadata": {},
     "source": [
      "Using the scipy ```rv_continuous``` class, we can define ```dPlN``` as a subclass."
     ]
    },
    {
     "cell_type": "code",
     "collapsed": false,
     "input": [
      "from dpln_distrib import dpln"
     ],
     "language": "python",
     "metadata": {},
     "outputs": [],
     "prompt_number": 50
    },
    {
     "cell_type": "markdown",
     "metadata": {},
     "source": [
      "Let's load in some data to test it..."
     ]
    },
    {
     "cell_type": "code",
     "collapsed": false,
     "input": [
      "from astropy.io.fits import getdata\n",
      "img = getdata(\"../testingdata/hd22.13co.intintensity.fits\")\n",
      "data = img[np.isfinite(img)]"
     ],
     "language": "python",
     "metadata": {},
     "outputs": [],
     "prompt_number": 51
    },
    {
     "cell_type": "markdown",
     "metadata": {},
     "source": [
      "scipy's general definitions are a little weird, and ```dpln``` will likely need to be adjusted to some degree (like doing away with ```nu``` and ```tau2``` in favour of the built-ins). For now, I've found it necessary to freeze the ```loc``` parameter to zero. Also parameter constraints should assist with the fitting."
     ]
    },
    {
     "cell_type": "code",
     "collapsed": false,
     "input": [
      "fit = dpln.fit(data, floc=0.0, fscale=1.0)\n",
      "print(fit)"
     ],
     "language": "python",
     "metadata": {},
     "outputs": [
      {
       "output_type": "stream",
       "stream": "stdout",
       "text": [
        "(1.2231409354398668, 1.4283787570663817, 1.3551816091802553, 7.9469599648260317e-10, 0.0, 1.0)\n"
       ]
      }
     ],
     "prompt_number": 65
    },
    {
     "cell_type": "markdown",
     "metadata": {},
     "source": [
      "How did it do?"
     ]
    },
    {
     "cell_type": "code",
     "collapsed": false,
     "input": [
      "plt.hist(data, bins=100, normed=1)\n",
      "print(dpln.ppf(0.05, *fit), dpln.ppf(0.95, *fit))\n",
      "x = np.linspace(dpln.ppf(0.05, *fit), dpln.ppf(0.95, *fit), 1000)\n",
      "plt.plot(x, dpln.pdf(x, *fit))"
     ],
     "language": "python",
     "metadata": {},
     "outputs": [
      {
       "output_type": "stream",
       "stream": "stdout",
       "text": [
        "(0.0, 27.07614232728028)\n"
       ]
      },
      {
       "metadata": {},
       "output_type": "pyout",
       "prompt_number": 66,
       "text": [
        "[<matplotlib.lines.Line2D at 0x11ad83a90>]"
       ]
      },
      {
       "metadata": {},
       "output_type": "display_data",
       "png": "[encoded data removed]",
       "text": [
        "<matplotlib.figure.Figure at 0x11ad83fd0>"
       ]
      }
     ],
     "prompt_number": 66
    },
    {
     "cell_type": "markdown",
     "metadata": {},
     "source": [
      "Clearly, there's still some issues with this fit...\n",
      "Now try the single powerlaw form.\n"
     ]
    },
    {
     "cell_type": "code",
     "collapsed": false,
     "input": [
      "from pln_distrib import pln"
     ],
     "language": "python",
     "metadata": {},
     "outputs": [],
     "prompt_number": 136
    },
    {
     "cell_type": "code",
     "collapsed": false,
     "input": [
      "fit2 = pln.fit(data, fscale=1.0, floc=0.0)\n",
      "print(fit2)"
     ],
     "language": "python",
     "metadata": {},
     "outputs": [
      {
       "output_type": "stream",
       "stream": "stdout",
       "text": [
        "(1.9312049622065837, 1.0029882024062222, 0.051537141731991747, 0.0, 1.0)\n"
       ]
      }
     ],
     "prompt_number": 143
    },
    {
     "cell_type": "code",
     "collapsed": false,
     "input": [
      "plt.hist(data-data.min(), bins=100, normed=1)\n",
      "print(pln.ppf(0.05, *fit2))\n",
      "x2 = np.linspace(pln.ppf(0.05, *fit2), pln.ppf(0.95, *fit2), 1000)\n",
      "plt.plot(x2, pln.pdf(x2, *fit2))"
     ],
     "language": "python",
     "metadata": {},
     "outputs": [
      {
       "output_type": "stream",
       "stream": "stdout",
       "text": [
        "0.0\n"
       ]
      },
      {
       "metadata": {},
       "output_type": "pyout",
       "prompt_number": 144,
       "text": [
        "[<matplotlib.lines.Line2D at 0x128c41090>]"
       ]
      },
      {
       "metadata": {},
       "output_type": "display_data",
       "png": "[encoded data removed]",
       "text": [
        "<matplotlib.figure.Figure at 0x128c416d0>"
       ]
      }
     ],
     "prompt_number": 144
    },
    {
     "cell_type": "code",
     "collapsed": false,
     "input": [
      "percents = np.linspace(0.01, 1.0, 100)\n",
      "plt.plot(percents, pln.ppf(percents, *fit2))\n"
     ],
     "language": "python",
     "metadata": {},
     "outputs": [
      {
       "metadata": {},
       "output_type": "pyout",
       "prompt_number": 145,
       "text": [
        "[<matplotlib.lines.Line2D at 0x129a09c10>]"
       ]
      },
      {
       "metadata": {},
       "output_type": "display_data",
       "png": "[encoded data removed]",
       "text": [
        "<matplotlib.figure.Figure at 0x128861950>"
       ]
      }
     ],
     "prompt_number": 145
    },
    {
     "cell_type": "code",
     "collapsed": false,
     "input": [
      "rv = pln(3.0, 1.0, 1.0)\n",
      "print(rv.ppf(0.01), rv.ppf(0.95))\n",
      "x = np.linspace(rv.ppf(0.01), rv.ppf(0.99), 1000)\n",
      "plt.plot(x, rv.pdf(x))"
     ],
     "language": "python",
     "metadata": {},
     "outputs": [
      {
       "output_type": "stream",
       "stream": "stdout",
       "text": [
        "(0.0, 21.791615130134865)\n"
       ]
      },
      {
       "metadata": {},
       "output_type": "pyout",
       "prompt_number": 147,
       "text": [
        "[<matplotlib.lines.Line2D at 0x129b62350>]"
       ]
      },
      {
       "metadata": {},
       "output_type": "display_data",
       "png": "[encoded data removed]",
       "text": [
        "<matplotlib.figure.Figure at 0x128de0d50>"
       ]
      }
     ],
     "prompt_number": 147
    },
    {
     "cell_type": "code",
     "collapsed": false,
     "input": [
      "plt.plot(x, rv.cdf(x))"
     ],
     "language": "python",
     "metadata": {},
     "outputs": [
      {
       "metadata": {},
       "output_type": "pyout",
       "prompt_number": 148,
       "text": [
        "[<matplotlib.lines.Line2D at 0x129c1a0d0>]"
       ]
      },
      {
       "metadata": {},
       "output_type": "display_data",
       "png": "[encoded data removed]",
       "text": [
        "<matplotlib.figure.Figure at 0x1287a9cd0>"
       ]
      }
     ],
     "prompt_number": 148
    },
    {
     "cell_type": "code",
     "collapsed": false,
     "input": [
      "plt.plot(x, rv.logpdf(x))"
     ],
     "language": "python",
     "metadata": {},
     "outputs": [
      {
       "metadata": {},
       "output_type": "pyout",
       "prompt_number": 149,
       "text": [
        "[<matplotlib.lines.Line2D at 0x129cb3850>]"
       ]
      },
      {
       "metadata": {},
       "output_type": "display_data",
       "png": "[encoded data removed]",
       "text": [
        "<matplotlib.figure.Figure at 0x1287186d0>"
       ]
      }
     ],
     "prompt_number": 149
    },
    {
     "cell_type": "code",
     "collapsed": false,
     "input": [
      "plt.plot(np.linspace(0.01,1.0,100), rv.ppf(np.linspace(0.01,1.0,100)))"
     ],
     "language": "python",
     "metadata": {},
     "outputs": [
      {
       "metadata": {},
       "output_type": "pyout",
       "prompt_number": 150,
       "text": [
        "[<matplotlib.lines.Line2D at 0x129e6a590>]"
       ]
      },
      {
       "metadata": {},
       "output_type": "display_data",
       "png": "[encoded data removed]",
       "text": [
        "<matplotlib.figure.Figure at 0x128f69590>"
       ]
      }
     ],
     "prompt_number": 150
    },
    {
     "cell_type": "code",
     "collapsed": false,
     "input": [],
     "language": "python",
     "metadata": {},
     "outputs": []
    }
   ],
   "metadata": {}
  }
 ]
}